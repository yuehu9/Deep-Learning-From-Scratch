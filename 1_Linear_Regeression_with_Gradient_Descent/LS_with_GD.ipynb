{
 "cells": [
  {
   "cell_type": "code",
   "execution_count": 1,
   "metadata": {},
   "outputs": [],
   "source": [
    "import numpy as np\n",
    "import matplotlib.pyplot as plt"
   ]
  },
  {
   "cell_type": "markdown",
   "metadata": {},
   "source": [
    "# 1. Single Variable Regression\n",
    "\n",
    "Suppose you are the CEO of a restaurant franchise and are considering different cities for opening a new outlet. The chain already has food trucks in various cities and you have data for profits and populations from the cities. You'd like to figure out what the expected profit of a new food truck might be given only the population of the city that it would be placed in. Predict the profits for a food track using simple regression based on the available data.\n",
    "\n",
    "The file food_truck_data.txt contains the dataset for the problem. The data consists of two columns; the first column is the population of a city and the second column is the profit of a food truck in that city. A negative value for profit indicates a loss.\n",
    "\n",
    "\n",
    "• Fit a linear model to the data\n",
    "\n",
    "    o Compute the parameters of the model using gradient descent\n",
    "    o Compute and plot the cost function as a function of the gradient descent iterations"
   ]
  },
  {
   "cell_type": "code",
   "execution_count": 2,
   "metadata": {},
   "outputs": [],
   "source": [
    "# Load the training dataset\n",
    "train = np.loadtxt(open(\"food_truck_data.txt\"), delimiter=\",\")"
   ]
  },
  {
   "cell_type": "code",
   "execution_count": 3,
   "metadata": {},
   "outputs": [],
   "source": [
    "m = train.shape[0]"
   ]
  },
  {
   "cell_type": "code",
   "execution_count": 4,
   "metadata": {},
   "outputs": [],
   "source": [
    "train_X = train[:, 0].reshape(m,1)\n",
    "train_y = train[:, 1]"
   ]
  },
  {
   "cell_type": "code",
   "execution_count": 5,
   "metadata": {},
   "outputs": [
    {
     "data": {
      "image/png": "[encoded data removed]",
      "text/plain": [
       "<Figure size 360x288 with 1 Axes>"
      ]
     },
     "metadata": {
      "needs_background": "light"
     },
     "output_type": "display_data"
    }
   ],
   "source": [
    "# plot the data\n",
    "plt.figure(figsize=(5,4))\n",
    "plt.plot(train_X, train_y, '.')\n",
    "plt.xlabel('Population of City')\n",
    "plt.ylabel('Profit')\n",
    "plt.show()"
   ]
  },
  {
   "cell_type": "markdown",
   "metadata": {},
   "source": [
    "## data fitting"
   ]
  },
  {
   "cell_type": "markdown",
   "metadata": {},
   "source": [
    "To fit it with least squares, the liniear model is:\n",
    "$$h_\\beta(x) = \\beta^{T}x = \\beta_0 + \\beta_1x_1$$\n",
    "\n",
    "The objective function to minimize:\n",
    "$$J(\\beta) = \\frac{1}{2m}\\sum_{i=1}^m(h_\\beta(x^{(i)})-y^{(i)})^2$$\n",
    "\n",
    "\n",
    "And we use gradient descent to update beta:\n",
    "$$\\beta_j := \\beta_j - \\alpha\\frac{1}{m}\\sum_{i=1}^m (h_\\beta(x^{(i)})-y^{(i)})x_{j}^{(i)}$$"
   ]
  },
  {
   "cell_type": "code",
   "execution_count": 6,
   "metadata": {},
   "outputs": [],
   "source": [
    "# define functions for LS\n",
    "\n",
    "#cost function\n",
    "def cost(X, y, theta):\n",
    "    m = X.shape[0]\n",
    "    res = X.dot(theta) - y\n",
    "    return res.T.dot(res)/2/m\n",
    "\n",
    "# gradient descent\n",
    "def gradient_descent(X, y, theta0, alpha, max_iter = 2000, eps = 1e-7):\n",
    "    \"\"\"\n",
    "    theta0 : initial value for theta\n",
    "    eps: thrshhold for convergency\n",
    "    \"\"\"\n",
    "    i = 0\n",
    "    theta = theta0\n",
    "    converge = False\n",
    "    costs = [0] * max_iter\n",
    "    m = X.shape[0]\n",
    "    while i < max_iter and not converge:\n",
    "        m = X.shape[0]\n",
    "        res = X.dot(theta) - y\n",
    "        grad = X.T.dot(res)/m\n",
    "        theta_new = theta - alpha * grad\n",
    "        # decide convergency\n",
    "        if np.linalg.norm(theta_new - theta) >= eps:\n",
    "            theta = theta_new\n",
    "        else:\n",
    "            converge = True\n",
    "        # store cost\n",
    "        costs[i] = cost(X, y, theta)\n",
    "        i += 1\n",
    "    return theta, costs, i"
   ]
  },
  {
   "cell_type": "code",
   "execution_count": 8,
   "metadata": {},
   "outputs": [
    {
     "data": {
      "text/plain": [
       "(97, 2)"
      ]
     },
     "execution_count": 8,
     "metadata": {},
     "output_type": "execute_result"
    }
   ],
   "source": [
    "alpha = 0.005\n",
    "theta0 = np.array([0, 0])\n",
    "iteration = 3000\n",
    "\n",
    "# add constants to X\n",
    "a = np.ones((m,1))\n",
    "X = np.hstack((train_X, a))\n",
    "X.shape\n",
    "\n"
   ]
  },
  {
   "cell_type": "code",
   "execution_count": 9,
   "metadata": {},
   "outputs": [],
   "source": [
    "(Theta, Cost, Iter) = gradient_descent(X, train_y, theta0, alpha, iteration)"
   ]
  },
  {
   "cell_type": "code",
   "execution_count": 10,
   "metadata": {},
   "outputs": [
    {
     "name": "stdout",
     "output_type": "stream",
     "text": [
      "Theta parameters are [ 1.16632977 -3.62996716]\n"
     ]
    }
   ],
   "source": [
    "# predicted theta parameters\n",
    "print(\"Theta parameters are\", Theta)"
   ]
  },
  {
   "cell_type": "code",
   "execution_count": 11,
   "metadata": {},
   "outputs": [
    {
     "data": {
      "image/png": "[encoded data removed]",
      "text/plain": [
       "<Figure size 432x288 with 1 Axes>"
      ]
     },
     "metadata": {
      "needs_background": "light"
     },
     "output_type": "display_data"
    }
   ],
   "source": [
    "plt.plot(Cost)\n",
    "plt.ylabel('Cost')\n",
    "plt.xlabel('# iteration')\n",
    "plt.title('Cost as a function of iterations')\n",
    "plt.show()"
   ]
  },
  {
   "cell_type": "markdown",
   "metadata": {},
   "source": [
    "Several step sizes are tried. A large alpha whill result in step size too large, it will not converge at final steps, or even overshoot at the very beginning.\n",
    "\n",
    "We can see form the plot that the cost initially drops fast, then slows down. This is because of the shape of quadratic functions. Initially we are away from the optimal point and the gradient is large. As it apporaches the optimal, gradient becomes smaller and the change in cost becomes small."
   ]
  },
  {
   "cell_type": "markdown",
   "metadata": {},
   "source": [
    "##  Plot the data with the linear model"
   ]
  },
  {
   "cell_type": "code",
   "execution_count": 16,
   "metadata": {},
   "outputs": [
    {
     "data": {
      "image/png": "[encoded data removed]",
      "text/plain": [
       "<Figure size 432x288 with 1 Axes>"
      ]
     },
     "metadata": {
      "needs_background": "light"
     },
     "output_type": "display_data"
    }
   ],
   "source": [
    "pred_X = np.linspace(0, 25, 10).reshape(10,1)\n",
    "pred_X = np.hstack((pred_X, np.ones((10,1))))\n",
    "pred_y = pred_X.dot(Theta)\n",
    "plt.plot(train_X[:,0], train_y, '.')\n",
    "plt.plot(pred_X, pred_y)\n",
    "plt.xlabel('Population of City')\n",
    "plt.ylabel('Profit')\n",
    "plt.title('Linear regression for profit vs. population')\n",
    "plt.axis([4,25,-5,25])\n",
    "plt.show()"
   ]
  },
  {
   "cell_type": "markdown",
   "metadata": {},
   "source": [
    "we can see that the line fits good with the data.\n",
    "\n",
    "# 2. Multiple variables\n",
    "Suppose you are selling your house and you want to know what a good market price would be. You can use available data on recent housing prices sold and learn a linear model.\n",
    "The file housing_price_data.txt contains the dataset for the problem. The data consists of three columns; the first column is the size of the house (in square feet), the second column is the number of bedrooms, and the third column is the price of the house.\n",
    "\n",
    "• Fit a linear model to the data \n",
    "\n",
    "    o Use featurescaling\n",
    "    o Compute the parameters using gradient descent\n",
    "    o Compute and plot the cost function as a function of the gradient descent iterations\n",
    "    \n",
    "• Assume features of your house and predict a good market price"
   ]
  },
  {
   "cell_type": "code",
   "execution_count": 18,
   "metadata": {},
   "outputs": [],
   "source": [
    "# Load the training dataset\n",
    "train2 = np.loadtxt(open(\"housing_price_data.txt\"), delimiter=\",\")"
   ]
  },
  {
   "cell_type": "code",
   "execution_count": 19,
   "metadata": {},
   "outputs": [
    {
     "data": {
      "text/plain": [
       "(47, 3)"
      ]
     },
     "execution_count": 19,
     "metadata": {},
     "output_type": "execute_result"
    }
   ],
   "source": [
    "train2.shape"
   ]
  },
  {
   "cell_type": "code",
   "execution_count": 20,
   "metadata": {},
   "outputs": [],
   "source": [
    "train_X = train2[:, 0:2]\n",
    "train_y = train2[:, 2]"
   ]
  },
  {
   "cell_type": "code",
   "execution_count": 22,
   "metadata": {},
   "outputs": [
    {
     "data": {
      "text/plain": [
       "array([7.86202619e+02, 7.52842809e-01])"
      ]
     },
     "execution_count": 22,
     "metadata": {},
     "output_type": "execute_result"
    }
   ],
   "source": [
    "train_X.std(axis = 0)"
   ]
  },
  {
   "cell_type": "code",
   "execution_count": 26,
   "metadata": {},
   "outputs": [],
   "source": [
    "class feature_scaler:\n",
    "    \"\"\"\n",
    "    standatdize input to have uniform distribution\n",
    "    \"\"\"\n",
    "    def __init__(self, X):\n",
    "        self.mean = X.mean(axis=0)\n",
    "        self.std = X.std(axis=0)\n",
    "        \n",
    "    def scale(self, X):\n",
    "        X_std = (X - self.mean) / self.std\n",
    "        return X_std"
   ]
  },
  {
   "cell_type": "code",
   "execution_count": 33,
   "metadata": {},
   "outputs": [
    {
     "data": {
      "text/plain": [
       "(47, 3)"
      ]
     },
     "execution_count": 33,
     "metadata": {},
     "output_type": "execute_result"
    }
   ],
   "source": [
    "# normalize data\n",
    "scaler = feature_scaler(train_X)\n",
    "X = scaler.scale(train_X)\n",
    "\n",
    "# add constants to X\n",
    "m = X.shape[0]\n",
    "X = np.hstack((X, np.ones((m,1))))\n",
    "X.shape\n"
   ]
  },
  {
   "cell_type": "markdown",
   "metadata": {},
   "source": [
    "use the same function as question 1 and fit the least square"
   ]
  },
  {
   "cell_type": "code",
   "execution_count": 34,
   "metadata": {},
   "outputs": [],
   "source": [
    "alpha = 0.005\n",
    "theta0 = np.array([0, 0, 0])\n",
    "iteration = 3000\n"
   ]
  },
  {
   "cell_type": "code",
   "execution_count": 35,
   "metadata": {},
   "outputs": [],
   "source": [
    "(Theta, Cost, Iter) = gradient_descent(X, train_y, theta0, alpha, iteration)"
   ]
  },
  {
   "cell_type": "code",
   "execution_count": 36,
   "metadata": {},
   "outputs": [
    {
     "name": "stdout",
     "output_type": "stream",
     "text": [
      "Theta parameters are [109369.48766356  -6500.04605454 340412.55928671]\n"
     ]
    }
   ],
   "source": [
    "# predicted theta parameters\n",
    "print(\"Theta parameters are\", Theta)"
   ]
  },
  {
   "cell_type": "code",
   "execution_count": 38,
   "metadata": {},
   "outputs": [
    {
     "data": {
      "image/png": "[encoded data removed]",
      "text/plain": [
       "<Figure size 432x288 with 1 Axes>"
      ]
     },
     "metadata": {
      "needs_background": "light"
     },
     "output_type": "display_data"
    }
   ],
   "source": [
    "plt.plot(Cost)\n",
    "plt.ylabel('Cost')\n",
    "plt.xlabel('# iteration')\n",
    "plt.title('Cost as a function of iterations')\n",
    "plt.show()"
   ]
  },
  {
   "cell_type": "markdown",
   "metadata": {},
   "source": [
    "We can see that the curve has the same trend as qustion 1, but is much smoother, since we did feature scaling."
   ]
  },
  {
   "cell_type": "markdown",
   "metadata": {},
   "source": [
    "## Assume features of your house and predict a good market price"
   ]
  },
  {
   "cell_type": "markdown",
   "metadata": {},
   "source": [
    "Assume: size of the house (in square feet) is 3000, 3.000e+00, number of bedrooms is 4.\n",
    "\n",
    "Thus the feature vector is (3000, 4)\n"
   ]
  },
  {
   "cell_type": "code",
   "execution_count": 46,
   "metadata": {},
   "outputs": [
    {
     "name": "stdout",
     "output_type": "stream",
     "text": [
      "Predicted house price is 472264.5311896148\n"
     ]
    }
   ],
   "source": [
    "x = np.array([3000, 4])\n",
    "X = scaler.scale(x)\n",
    "X = np.hstack((X, np.ones((1))))\n",
    "y = X.dot(Theta)\n",
    "print('Predicted house price is', y)"
   ]
  }
 ],
 "metadata": {
  "kernelspec": {
   "display_name": "Python 3",
   "language": "python",
   "name": "python3"
  },
  "language_info": {
   "codemirror_mode": {
    "name": "ipython",
    "version": 3
   },
   "file_extension": ".py",
   "mimetype": "text/x-python",
   "name": "python",
   "nbconvert_exporter": "python",
   "pygments_lexer": "ipython3",
   "version": "3.6.8"
  }
 },
 "nbformat": 4,
 "nbformat_minor": 2
}
