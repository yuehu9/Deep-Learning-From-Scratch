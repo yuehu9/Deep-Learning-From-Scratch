{
 "cells": [
  {
   "cell_type": "code",
   "execution_count": 45,
   "metadata": {},
   "outputs": [],
   "source": [
    "import os\n",
    "import numpy as np\n",
    "import matplotlib.pyplot as plt\n",
    "import random\n",
    "\n",
    "# for evaluation metrics\n",
    "from sklearn.metrics import accuracy_score, f1_score\n",
    "\n",
    "\n",
    "# set random seed\n",
    "np.random.seed(0)\n",
    "random.seed(0)"
   ]
  },
  {
   "cell_type": "markdown",
   "metadata": {},
   "source": [
    "The MNIST database contains the dataset for this problem. Develop an image recognition algorithm using logistic regression based on gradient descent that can correctly classify handwritten images as 4 or not 4"
   ]
  },
  {
   "cell_type": "markdown",
   "metadata": {},
   "source": [
    "## Load dataset\n",
    "MNIST data can be downloaded from  http://yann.lecun.com/exdb/mnist/."
   ]
  },
  {
   "cell_type": "code",
   "execution_count": 2,
   "metadata": {},
   "outputs": [
    {
     "name": "stdout",
     "output_type": "stream",
     "text": [
      "The training set contains 60000 images\n",
      "The shape of the image is (28, 28)\n",
      "The label of the image is 3\n"
     ]
    },
    {
     "data": {
      "image/png": "[encoded data removed]",
      "text/plain": [
       "<Figure size 432x288 with 1 Axes>"
      ]
     },
     "metadata": {
      "needs_background": "light"
     },
     "output_type": "display_data"
    }
   ],
   "source": [
    "# load MNIST\n",
    "path = '../MNIST/'   # the training set is stored in this directory\n",
    "\n",
    "# Train data\n",
    "fname_train_images = os.path.join(path, 'train-images-idx3-ubyte')  # the training set image file path\n",
    "fname_train_labels = os.path.join(path, 'train-labels-idx1-ubyte')  # the training set label file path\n",
    "    \n",
    "# open the label file and load it to the \"train_labels\"\n",
    "with open(fname_train_labels, 'rb') as flbl:\n",
    "    magic, num = struct.unpack(\">II\", flbl.read(8))\n",
    "    train_labels = np.fromfile(flbl, dtype=np.uint8)\n",
    "\n",
    "# open the image file and load it to the \"train_images\"\n",
    "with open(fname_train_images, 'rb') as fimg:\n",
    "    magic, num, rows, cols = struct.unpack(\">IIII\", fimg.read(16))\n",
    "    train_images = np.fromfile(fimg, dtype=np.uint8).reshape(len(train_labels), rows, cols)\n",
    "    \n",
    "print('The training set contains', len(train_images), 'images')  # print the how many images contained in the training set\n",
    "print('The shape of the image is', train_images[0].shape)  # print the shape of the image\n",
    "\n",
    "\n",
    "imgNumber = 30  # choose which image you want to display\n",
    "print('The label of the image is', train_labels[imgNumber])  # print the label of the image displayed\n",
    "\n",
    "pyplot.imshow(train_images[imgNumber], cmap='gray')  # plot the image in \"gray\" colormap\n",
    "pyplot.show()"
   ]
  },
  {
   "cell_type": "code",
   "execution_count": 3,
   "metadata": {},
   "outputs": [
    {
     "name": "stdout",
     "output_type": "stream",
     "text": [
      "The training set contains 10000 images\n",
      "The shape of the image is (28, 28)\n"
     ]
    }
   ],
   "source": [
    "# load test set\n",
    "\n",
    "fname_test_images = os.path.join(path, 't10k-images-idx3-ubyte')  # the training set image file path\n",
    "fname_test_labels = os.path.join(path, 't10k-labels-idx1-ubyte 2')  # the training set label file path\n",
    "    \n",
    "# open the label file and load it to the \"train_labels\"\n",
    "with open(fname_test_labels, 'rb') as flbl:\n",
    "    magic, num = struct.unpack(\">II\", flbl.read(8))\n",
    "    test_y = np.fromfile(flbl, dtype=np.uint8)\n",
    "\n",
    "# open the image file and load it to the \"train_images\"\n",
    "with open(fname_test_images, 'rb') as fimg:\n",
    "    magic, num, rows, cols = struct.unpack(\">IIII\", fimg.read(16))\n",
    "    test_X = np.fromfile(fimg, dtype=np.uint8).reshape(len(test_y), rows, cols)\n",
    "    \n",
    "print('The training set contains', len(test_X), 'images')  # print the how many images contained in the training set\n",
    "print('The shape of the image is', test_X[0].shape)  # print the shape of the image"
   ]
  },
  {
   "cell_type": "markdown",
   "metadata": {},
   "source": [
    "## Preprocessing"
   ]
  },
  {
   "cell_type": "markdown",
   "metadata": {},
   "source": [
    "Flatten. Typically, pictures are reshaped to column vectors. The images in the dataset are of size (28,28)\n",
    " and should be reshaped to column vectors of size (28x28,1)."
   ]
  },
  {
   "cell_type": "code",
   "execution_count": 4,
   "metadata": {},
   "outputs": [
    {
     "data": {
      "text/plain": [
       "(784, 60000)"
      ]
     },
     "execution_count": 4,
     "metadata": {},
     "output_type": "execute_result"
    }
   ],
   "source": [
    "train_X = np.reshape(train_images, (train_images.shape[0], -1))\n",
    "train_X = train_X.T\n",
    "train_X.shape"
   ]
  },
  {
   "cell_type": "code",
   "execution_count": 17,
   "metadata": {},
   "outputs": [
    {
     "data": {
      "text/plain": [
       "(60000,)"
      ]
     },
     "execution_count": 17,
     "metadata": {},
     "output_type": "execute_result"
    }
   ],
   "source": [
    "# set y as boolean: 4 or not 4\n",
    "train_y = train_labels == 4\n",
    "train_y.shape"
   ]
  },
  {
   "cell_type": "code",
   "execution_count": 6,
   "metadata": {},
   "outputs": [
    {
     "data": {
      "text/plain": [
       "(784, 10000)"
      ]
     },
     "execution_count": 6,
     "metadata": {},
     "output_type": "execute_result"
    }
   ],
   "source": [
    "# preprocess test set\n",
    "test_X = np.reshape(test_X, (test_X.shape[0], -1))\n",
    "test_X = test_X.T\n",
    "test_X.shape"
   ]
  },
  {
   "cell_type": "code",
   "execution_count": 18,
   "metadata": {},
   "outputs": [],
   "source": [
    "test_y = test_y == 4"
   ]
  },
  {
   "cell_type": "markdown",
   "metadata": {},
   "source": [
    "For scaling of picture datasets, it is simpler and more convenient and works almost as well to just divide every row of the dataset by 255 (the maximum value of a pixel channel)."
   ]
  },
  {
   "cell_type": "code",
   "execution_count": 7,
   "metadata": {},
   "outputs": [],
   "source": [
    "train_X = train_X / 255\n",
    "test_X = test_X / 255"
   ]
  },
  {
   "cell_type": "markdown",
   "metadata": {},
   "source": [
    "The training data set contains 60,000 examples. Create smaller training datasets for development and validation. Investigate the impact of the training data size."
   ]
  },
  {
   "cell_type": "code",
   "execution_count": 53,
   "metadata": {},
   "outputs": [
    {
     "data": {
      "text/plain": [
       "(784, 48000)"
      ]
     },
     "execution_count": 53,
     "metadata": {},
     "output_type": "execute_result"
    }
   ],
   "source": [
    "# # shuffle the samples to select randomly\n",
    "\n",
    "# c = list(zip(train_X, train_labels))\n",
    "# random.shuffle(c)\n",
    "# train_X, train_y = zip(*c)\n",
    "\n",
    "num_s = int(train_X.shape[1] * 0.8)\n",
    "train_Xs = train_X[:,:num_s]\n",
    "train_ys = train_y[:num_s]\n",
    "val_Xs = train_X[:,num_s:] \n",
    "\n",
    "train_Xs.shape"
   ]
  },
  {
   "cell_type": "markdown",
   "metadata": {},
   "source": [
    "## Learning\n",
    "\n",
    "    • Use vectorized implementation.\n",
    "    • Plot the learning curve (cost function vs. number of iterations).\n",
    "    • Investigate the impact of the learning rate."
   ]
  },
  {
   "cell_type": "markdown",
   "metadata": {},
   "source": [
    "forward prop: \n",
    "$$ z = w^T X + b \\\\ \n",
    "A = sigma(z) = \\frac{1}{1 + e^{-(w^T x + b)}} $$\n",
    "\n",
    "Loss function:\n",
    "$$J = -\\frac{1}{m}\\sum_{i=1}^{m}y^{(i)}\\log(a^{(i)})+(1-y^{(i)})\\log(1-a^{(i)})$$\n",
    "\n",
    "Back Prop:\n",
    "$$ \\frac{\\partial J}{\\partial w} = \\frac{1}{m}X(A-y)^T$$\n",
    "$$ \\frac{\\partial J}{\\partial b} = \\frac{1}{m} \\sum_{i=1}^m (a^{(i)}-y^{(i)})$$\n",
    "\n"
   ]
  },
  {
   "cell_type": "code",
   "execution_count": 133,
   "metadata": {},
   "outputs": [],
   "source": [
    "class LogisticRegression(object):\n",
    "    '''\n",
    "    Logistic regression build from scratch using numpy.\n",
    "    Use gradient descent for training\n",
    "    Vectorized for better performance\n",
    "    Paramete\n",
    "\n",
    "    Examples\n",
    "    ---\n",
    "    >>> LR = LogisticRegression(**arg)\n",
    "    >>> LR.fit(X_trian, y_trian)\n",
    "    '''\n",
    "\n",
    "    def __init__(self, X_train, y_train, step_size = 0.1, tol = 1e-4, max_iter = 1000, random_seed = 0, verbal = True):\n",
    "        self.verbal = verbal\n",
    "        self.seed = random_seed\n",
    "        np.random.seed(self.seed)\n",
    "        self.step = step_size\n",
    "        self.max_iter = max_iter\n",
    "        self.X = X_train\n",
    "        self.y = y_train\n",
    "        self.p = X_train.shape[0] # parameter size\n",
    "        self.m = X_train.shape[1] # number of samples\n",
    "        ## random initiate parameters, sample from normal disrtibution\n",
    "        self.w = np.random.randn(self.p)\n",
    "        self.b = np.random.randn()\n",
    "     \n",
    "    ### training functions #####\n",
    "    def forward_prop(self):\n",
    "        self.z = np.dot(self.w.T, self.X) + self.b\n",
    "        self.A = self.sigmoid(self.z)  # shape(1, m)\n",
    "        \n",
    "    def backward_prop(self):\n",
    "        self.dz = self.A - self.y\n",
    "        self.dw = np.dot(self.X, self.dz.T) / self.m\n",
    "        self.db = np.sum(self.dz) / self.m\n",
    "        \n",
    "    def update(self):\n",
    "        self.w -= self.step * self.dw\n",
    "        self.b -= self.step * self.db\n",
    "\n",
    "    def fit(self):\n",
    "        self.costs = np.zeros(self.max_iter) # record costs\n",
    "        \n",
    "        for i in range(self.max_iter):\n",
    "            self.forward_prop()\n",
    "            self.costs[i] = self.cross_entropy_cost(self.A, self.y)\n",
    "            self.backward_prop()\n",
    "            self.update()\n",
    "            \n",
    "            if i % 100 == 0 and self.verbal:\n",
    "                print(\"Cost after iteration %i : %f\" %(i, self.costs[i]))\n",
    "                \n",
    "    def plot_curve(self):\n",
    "        plt.plot(self.costs)\n",
    "        plt.ylabel('Cost')\n",
    "        plt.xlabel('Iterations')\n",
    "        plt.title('learning rate: ' + str(self.step))\n",
    "        plt.show()\n",
    "    \n",
    "    ### testing function ###\n",
    "    def predict(self, X_test):\n",
    "        # if sigmoid value >= 0.5, possitive\n",
    "        A = self.sigmoid(np.dot(self.w.T, X_test) + self.b)\n",
    "        return A >= 0.5\n",
    "    \n",
    "    def evaluate(self, test_X, test_y):\n",
    "        # training score\n",
    "        train_y_pred = self.predict(self.X)\n",
    "        train_acc = accuracy_score(self.y, train_y_pred)\n",
    "        train_f1 = f1_score(self.y, train_y_pred)\n",
    "        print(\"Training accuracy: %.3f   F1 score: %.3f\" %(train_acc, train_f1))\n",
    "        # testing score\n",
    "        test_y_pred = self.predict(test_X)\n",
    "        test_acc = accuracy_score(test_y_pred, test_y)\n",
    "        test_f1 = f1_score(test_y_pred, test_y)\n",
    "        print(\"Testing accuracy: %.3f    F1 score: %.3f\" %(test_acc, test_f1))\n",
    "\n",
    "    #### helper functions ####\n",
    "    def sigmoid(self, z):\n",
    "        return 1/(1+ np.exp(-z))\n",
    "    \n",
    "    def cross_entropy_cost(self, A, y):\n",
    "        '''\n",
    "        A: prediction; \n",
    "        y: true value\n",
    "        '''\n",
    "        \n",
    "        m = len(y) # number of samples\n",
    "        return -(np.dot(np.log(A), y.T) + np.dot(np.log(1 - A), (1 - y.T)))/m\n"
   ]
  },
  {
   "cell_type": "code",
   "execution_count": 134,
   "metadata": {},
   "outputs": [
    {
     "name": "stdout",
     "output_type": "stream",
     "text": [
      "Cost after iteration 0 : 1.385818\n",
      "Cost after iteration 100 : 0.149249\n",
      "Cost after iteration 200 : 0.117219\n",
      "Cost after iteration 300 : 0.102860\n",
      "Cost after iteration 400 : 0.094140\n"
     ]
    }
   ],
   "source": [
    "step = 1\n",
    "RL = LogisticRegression(train_Xs, train_ys, step_size = step, max_iter = 500, verbal = True)\n",
    "RL.fit()"
   ]
  },
  {
   "cell_type": "code",
   "execution_count": 135,
   "metadata": {},
   "outputs": [
    {
     "data": {
      "image/png": "[encoded data removed]",
      "text/plain": [
       "<Figure size 432x288 with 1 Axes>"
      ]
     },
     "metadata": {
      "needs_background": "light"
     },
     "output_type": "display_data"
    }
   ],
   "source": [
    "RL.plot_curve()"
   ]
  },
  {
   "cell_type": "markdown",
   "metadata": {},
   "source": [
    "## Evaluation\n",
    "\n",
    "    • Compute the training and the test error.\n",
    "    • Try test examples."
   ]
  },
  {
   "cell_type": "code",
   "execution_count": 136,
   "metadata": {},
   "outputs": [
    {
     "name": "stdout",
     "output_type": "stream",
     "text": [
      "Training accuracy: 0.973   F1 score: 0.858\n",
      "Testing accuracy: 0.974    F1 score: 0.868\n"
     ]
    }
   ],
   "source": [
    "RL.evaluate(test_X, test_y)"
   ]
  },
  {
   "cell_type": "markdown",
   "metadata": {},
   "source": [
    "The result shows that using 80% training sample, logistic regerssion without regularization can already achieve high accuracy and F1 score."
   ]
  },
  {
   "cell_type": "markdown",
   "metadata": {},
   "source": [
    "## Infulence of size of traing data"
   ]
  },
  {
   "cell_type": "code",
   "execution_count": 138,
   "metadata": {},
   "outputs": [
    {
     "name": "stdout",
     "output_type": "stream",
     "text": [
      "Using 0.30 of training data, 18000 samples in toal, training took 18.83 seconds\n",
      "Training accuracy: 0.957   F1 score: 0.780\n",
      "Testing accuracy: 0.956    F1 score: 0.773\n",
      "---------------\n",
      "Using 0.60 of training data, 36000 samples in toal, training took 80.40 seconds\n",
      "Training accuracy: 0.956   F1 score: 0.774\n",
      "Testing accuracy: 0.958    F1 score: 0.782\n",
      "---------------\n",
      "Using 1.00 of training data, 60000 samples in toal, training took 138.13 seconds\n",
      "Training accuracy: 0.956   F1 score: 0.776\n",
      "Testing accuracy: 0.956    F1 score: 0.775\n",
      "---------------\n"
     ]
    }
   ],
   "source": [
    "import time\n",
    "for portion in [0.3, 0.6, 1]:\n",
    "    # use just portion of data\n",
    "    num_s = int(train_X.shape[1] * portion)\n",
    "    train_Xs = train_X[:,:num_s]\n",
    "    train_ys = train_y[:num_s]\n",
    "    LR = LogisticRegression(train_Xs, train_ys, step_size = 0.1,  max_iter = 1000, verbal = False)\n",
    "    # time the training process\n",
    "    tic = time.clock()\n",
    "    LR.fit()\n",
    "    fitT = time.clock() - tic\n",
    "    print(\"Using %.2f of training data, %d samples in toal, training took %.2f seconds\" %(portion, num_s, fitT))\n",
    "    # evaluate\n",
    "    LR.evaluate(test_X, test_y)\n",
    "    print('---------------')"
   ]
  },
  {
   "cell_type": "markdown",
   "metadata": {},
   "source": [
    "We can see that a small portion of the total training data (30%) can already achieve good results with significantly less time. Meanwhile, using less data samples, the training F1 score is higher, but the testing F1 score is lower. This shows that overfitting might be happening with less data samples, leading to less generalization abilities."
   ]
  },
  {
   "cell_type": "markdown",
   "metadata": {},
   "source": [
    "## Influence of learning rate"
   ]
  },
  {
   "cell_type": "code",
   "execution_count": 159,
   "metadata": {},
   "outputs": [
    {
     "name": "stdout",
     "output_type": "stream",
     "text": [
      "step size: 1.00\n",
      "Training accuracy: 0.985   F1 score: 0.921\n",
      "Testing accuracy: 0.981    F1 score: 0.903\n",
      "---------------\n",
      "step size: 0.10\n",
      "Training accuracy: 0.974   F1 score: 0.867\n",
      "Testing accuracy: 0.974    F1 score: 0.868\n",
      "---------------\n",
      "step size: 0.01\n",
      "Training accuracy: 0.942   F1 score: 0.702\n",
      "Testing accuracy: 0.943    F1 score: 0.706\n",
      "---------------\n"
     ]
    }
   ],
   "source": [
    "# use 50% of training data\n",
    "num_s = int(train_X.shape[1] * 0.5)\n",
    "train_Xs = train_X[:,:num_s]\n",
    "train_ys = train_y[:num_s]\n",
    "Tcosts = []\n",
    "for step in [1, 0.1, 0.01]:\n",
    "    LR = LogisticRegression(train_Xs, train_ys, step_size = step, max_iter = 5000, verbal = False)\n",
    "    print(\"step size: %.2f\" %(step))\n",
    "    LR.fit()\n",
    "    LR.evaluate(test_X, test_y)\n",
    "    # record the cost curve\n",
    "    Tcosts.append(LR.costs)\n",
    "    print('---------------')"
   ]
  },
  {
   "cell_type": "code",
   "execution_count": 176,
   "metadata": {},
   "outputs": [
    {
     "data": {
      "image/png": "[encoded data removed]",
      "text/plain": [
       "<Figure size 432x288 with 1 Axes>"
      ]
     },
     "metadata": {
      "needs_background": "light"
     },
     "output_type": "display_data"
    }
   ],
   "source": [
    "for cost in Tcosts:\n",
    "    plt.plot(cost)\n",
    "plt.xlabel('# Iteration')\n",
    "plt.ylabel('Cost')\n",
    "plt.legend((\"1\", \"0.1\", \"0.01\"))\n",
    "plt.title(\"Learning curve for different learning rate\" )\n",
    "plt.show()"
   ]
  },
  {
   "cell_type": "markdown",
   "metadata": {},
   "source": [
    "We can see from the learning curve that a higher learning rate can converge to optimal solution faster, but the gap between the costs for different learning rate is geting smaller as the numner fo iteration grows. In general, if learning rate is too small, it may take too long to coverge, whereas if learning rate is too large, it might not be able to converge at last."
   ]
  },
  {
   "cell_type": "markdown",
   "metadata": {},
   "source": [
    "## Example of miss-classified image"
   ]
  },
  {
   "cell_type": "code",
   "execution_count": 165,
   "metadata": {},
   "outputs": [],
   "source": [
    "miss_classified = test_X[:, LR.predict(test_X) != test_y]"
   ]
  },
  {
   "cell_type": "code",
   "execution_count": 167,
   "metadata": {},
   "outputs": [
    {
     "data": {
      "text/plain": [
       "(784, 575)"
      ]
     },
     "execution_count": 167,
     "metadata": {},
     "output_type": "execute_result"
    }
   ],
   "source": [
    "miss_classified.shape"
   ]
  },
  {
   "cell_type": "code",
   "execution_count": 177,
   "metadata": {},
   "outputs": [
    {
     "data": {
      "image/png": "[encoded data removed]",
      "text/plain": [
       "<Figure size 432x288 with 1 Axes>"
      ]
     },
     "metadata": {
      "needs_background": "light"
     },
     "output_type": "display_data"
    }
   ],
   "source": [
    "sample = miss_classified[:, 20] * 255\n",
    "sample = np.reshape(sample, [28,28])\n",
    "pyplot.imshow(sample, cmap='gray')  # plot the image in \"gray\" colormap\n",
    "pyplot.title(\"Digit missclassifed as 4\")\n",
    "pyplot.show()"
   ]
  },
  {
   "cell_type": "code",
   "execution_count": null,
   "metadata": {},
   "outputs": [],
   "source": []
  }
 ],
 "metadata": {
  "kernelspec": {
   "display_name": "Python 3",
   "language": "python",
   "name": "python3"
  },
  "language_info": {
   "codemirror_mode": {
    "name": "ipython",
    "version": 3
   },
   "file_extension": ".py",
   "mimetype": "text/x-python",
   "name": "python",
   "nbconvert_exporter": "python",
   "pygments_lexer": "ipython3",
   "version": "3.6.8"
  }
 },
 "nbformat": 4,
 "nbformat_minor": 2
}
