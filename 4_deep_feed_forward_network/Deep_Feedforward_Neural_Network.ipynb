{
 "cells": [
  {
   "cell_type": "code",
   "execution_count": 3,
   "metadata": {},
   "outputs": [],
   "source": [
    "import os\n",
    "import numpy as np\n",
    "import matplotlib.pyplot as plt\n",
    "import random\n",
    "import struct\n",
    "from matplotlib import pyplot\n",
    "\n",
    "\n",
    "# for evaluation metrics\n",
    "from sklearn.metrics import accuracy_score, f1_score\n",
    "\n",
    "\n",
    "# set random seed\n",
    "np.random.seed(0)\n",
    "random.seed(0)"
   ]
  },
  {
   "cell_type": "markdown",
   "metadata": {},
   "source": [
    "The MNIST database contains the dataset for this problem. Develop an image recognition algorithm using logistic regression based on gradient descent that can correctly classify handwritten images as 4 or not 4"
   ]
  },
  {
   "cell_type": "markdown",
   "metadata": {},
   "source": [
    "## Load dataset\n",
    "MNIST data can be downloaded from  http://yann.lecun.com/exdb/mnist/."
   ]
  },
  {
   "cell_type": "code",
   "execution_count": 4,
   "metadata": {},
   "outputs": [
    {
     "name": "stdout",
     "output_type": "stream",
     "text": [
      "The training set contains 60000 images\n",
      "The shape of the image is (28, 28)\n",
      "The label of the image is 3\n"
     ]
    },
    {
     "data": {
      "image/png": "[encoded data removed]",
      "text/plain": [
       "<Figure size 432x288 with 1 Axes>"
      ]
     },
     "metadata": {
      "needs_background": "light"
     },
     "output_type": "display_data"
    }
   ],
   "source": [
    "# load MNIST\n",
    "path = '../MNIST/'   # the training set is stored in this directory\n",
    "\n",
    "# Train data\n",
    "fname_train_images = os.path.join(path, 'train-images-idx3-ubyte')  # the training set image file path\n",
    "fname_train_labels = os.path.join(path, 'train-labels-idx1-ubyte')  # the training set label file path\n",
    "    \n",
    "# open the label file and load it to the \"train_labels\"\n",
    "with open(fname_train_labels, 'rb') as flbl:\n",
    "    magic, num = struct.unpack(\">II\", flbl.read(8))\n",
    "    train_labels = np.fromfile(flbl, dtype=np.uint8)\n",
    "\n",
    "# open the image file and load it to the \"train_images\"\n",
    "with open(fname_train_images, 'rb') as fimg:\n",
    "    magic, num, rows, cols = struct.unpack(\">IIII\", fimg.read(16))\n",
    "    train_images = np.fromfile(fimg, dtype=np.uint8).reshape(len(train_labels), rows, cols)\n",
    "    \n",
    "print('The training set contains', len(train_images), 'images')  # print the how many images contained in the training set\n",
    "print('The shape of the image is', train_images[0].shape)  # print the shape of the image\n",
    "\n",
    "\n",
    "imgNumber = 30  # choose which image you want to display\n",
    "print('The label of the image is', train_labels[imgNumber])  # print the label of the image displayed\n",
    "\n",
    "pyplot.imshow(train_images[imgNumber], cmap='gray')  # plot the image in \"gray\" colormap\n",
    "pyplot.show()"
   ]
  },
  {
   "cell_type": "code",
   "execution_count": 5,
   "metadata": {},
   "outputs": [
    {
     "name": "stdout",
     "output_type": "stream",
     "text": [
      "The training set contains 10000 images\n",
      "The shape of the image is (28, 28)\n"
     ]
    }
   ],
   "source": [
    "# load test set\n",
    "\n",
    "fname_test_images = os.path.join(path, 't10k-images-idx3-ubyte')  # the training set image file path\n",
    "fname_test_labels = os.path.join(path, 't10k-labels-idx1-ubyte 2')  # the training set label file path\n",
    "    \n",
    "# open the label file and load it to the \"train_labels\"\n",
    "with open(fname_test_labels, 'rb') as flbl:\n",
    "    magic, num = struct.unpack(\">II\", flbl.read(8))\n",
    "    test_y = np.fromfile(flbl, dtype=np.uint8)\n",
    "\n",
    "# open the image file and load it to the \"train_images\"\n",
    "with open(fname_test_images, 'rb') as fimg:\n",
    "    magic, num, rows, cols = struct.unpack(\">IIII\", fimg.read(16))\n",
    "    test_X = np.fromfile(fimg, dtype=np.uint8).reshape(len(test_y), rows, cols)\n",
    "    \n",
    "print('The training set contains', len(test_X), 'images')  # print the how many images contained in the training set\n",
    "print('The shape of the image is', test_X[0].shape)  # print the shape of the image"
   ]
  },
  {
   "cell_type": "markdown",
   "metadata": {},
   "source": [
    "## Preprocessing"
   ]
  },
  {
   "cell_type": "markdown",
   "metadata": {},
   "source": [
    "Flatten. Typically, pictures are reshaped to column vectors. The images in the dataset are of size (28,28)\n",
    " and should be reshaped to column vectors of size (28x28,1)."
   ]
  },
  {
   "cell_type": "code",
   "execution_count": 6,
   "metadata": {},
   "outputs": [
    {
     "data": {
      "text/plain": [
       "(784, 60000)"
      ]
     },
     "execution_count": 6,
     "metadata": {},
     "output_type": "execute_result"
    }
   ],
   "source": [
    "train_X = np.reshape(train_images, (train_images.shape[0], -1))\n",
    "train_X = train_X.T\n",
    "train_X.shape"
   ]
  },
  {
   "cell_type": "code",
   "execution_count": 7,
   "metadata": {},
   "outputs": [
    {
     "data": {
      "text/plain": [
       "(60000,)"
      ]
     },
     "execution_count": 7,
     "metadata": {},
     "output_type": "execute_result"
    }
   ],
   "source": [
    "# set y as boolean: 4 or not 4\n",
    "train_y = train_labels == 4\n",
    "train_y.shape"
   ]
  },
  {
   "cell_type": "code",
   "execution_count": 8,
   "metadata": {},
   "outputs": [
    {
     "data": {
      "text/plain": [
       "(784, 10000)"
      ]
     },
     "execution_count": 8,
     "metadata": {},
     "output_type": "execute_result"
    }
   ],
   "source": [
    "# preprocess test set\n",
    "test_X = np.reshape(test_X, (test_X.shape[0], -1))\n",
    "test_X = test_X.T\n",
    "test_X.shape"
   ]
  },
  {
   "cell_type": "code",
   "execution_count": 9,
   "metadata": {},
   "outputs": [],
   "source": [
    "test_y = test_y == 4"
   ]
  },
  {
   "cell_type": "markdown",
   "metadata": {},
   "source": [
    "For scaling of picture datasets, it is simpler and more convenient and works almost as well to just divide every row of the dataset by 255 (the maximum value of a pixel channel)."
   ]
  },
  {
   "cell_type": "code",
   "execution_count": 10,
   "metadata": {},
   "outputs": [],
   "source": [
    "train_X = train_X / 255\n",
    "test_X = test_X / 255"
   ]
  },
  {
   "cell_type": "markdown",
   "metadata": {},
   "source": [
    "The training data set contains 60,000 examples. Create smaller training datasets for development and validation. Investigate the impact of the training data size."
   ]
  },
  {
   "cell_type": "code",
   "execution_count": 11,
   "metadata": {},
   "outputs": [
    {
     "data": {
      "text/plain": [
       "(784, 18000)"
      ]
     },
     "execution_count": 11,
     "metadata": {},
     "output_type": "execute_result"
    }
   ],
   "source": [
    "# # shuffle the samples to select randomly\n",
    "\n",
    "# c = list(zip(train_X, train_labels))\n",
    "# random.shuffle(c)\n",
    "# train_X, train_y = zip(*c)\n",
    "\n",
    "num_s = int(train_X.shape[1] * 0.3)\n",
    "train_Xs = train_X[:,:num_s]\n",
    "train_ys = train_y[:num_s]\n",
    "val_Xs = train_X[:,num_s:] \n",
    "\n",
    "train_Xs.shape"
   ]
  },
  {
   "cell_type": "markdown",
   "metadata": {},
   "source": [
    "## Learning\n",
    "\n",
    "    • Use vectorized implementation.\n",
    "    • Plot the learning curve (cost function vs. number of iterations).\n",
    "    • Investigate the impact of the learning rate."
   ]
  },
  {
   "cell_type": "markdown",
   "metadata": {},
   "source": [
    "forward prop: \n",
    "$$ z^{[1]} = W^{[1]} X + b^{[1]} \\\\\n",
    "a^{[1]} = g^{[1]}(z^{[1]}) \\\\$$\n",
    "$$z^{[l]} = W^{[l]} a^{[1-1]} + b^{[l]} \\\\ \n",
    "a^{[l]} = g(z^{[l]}) $$\n",
    "last layer:\n",
    "$$A^{[L]} = sigma(z^{[L]}) = \\frac{1}{1 + e^{-(W^{[L]} a^{[L-1]} + b^{[L]})}} $$\n",
    " where $g(\\cdot)$ is non-linear activation function such as Relu( ) or tanh( ).\n",
    " \n",
    "Loss function:\n",
    "$$J = -\\frac{1}{m}\\sum_{i=1}^{m}y^{(i)}\\log(a^{[L](i)})+(1-y^{(i)})\\log(1-a^{[L](i)})$$\n"
   ]
  },
  {
   "cell_type": "markdown",
   "metadata": {},
   "source": [
    "Back Prop for last layer:\n",
    "\n",
    "$$ dz^{[L]} = A^{[L]} - Y \\\\\n",
    "dW^{[L]} = \\frac{1}{m} dz^{[L]} A^{[L-1]T}\\\\\n",
    "db^{[L]} = \\frac{1}{m} sum(dz^{[L]}) \\\\ \\\\\n",
    "da^{[L-1]} = W^{[L]T} dz^{[L]} \n",
    "$$\n",
    "\n",
    "Back Prop for middle layer:\n",
    "\n",
    "$$ dz^{[l]} = da^{[l]}* g^{[l]'}(z^{[l]}) \\\\\n",
    "dW^{[l]} = \\frac{1}{m} dz^{[l]} A^{[l-1]T} \\\\\n",
    "db^{[l]} = \\frac{1}{m} sum(dz^{[l]}) \\\\\n",
    "da^{[l-1]} = W^{[l]T} dz^{[l]} \n",
    "$$\n",
    "\n",
    "where $dw$ is short-hand note for $\\frac{\\partial J}{\\partial w} $. $*$ is pointwise manipulator."
   ]
  },
  {
   "cell_type": "code",
   "execution_count": 25,
   "metadata": {},
   "outputs": [],
   "source": [
    "# define layers    \n",
    "class linear_layer(object):    \n",
    "    '''\n",
    "    implement z = WX + b\n",
    "    '''\n",
    "    def __init__(self, in_dim, out_dim, step_size = 0.1):\n",
    "        '''\n",
    "        in_dim - input dimension, feature dimention of X\n",
    "        out_dim - output dimension, feature dimention of z\n",
    "        step_size - update step size for gradient discent\n",
    "        '''\n",
    "        self.in_dim = in_dim\n",
    "        self.out_dim = out_dim\n",
    "        ## random initiate parameters, sample from normal disrtibution\n",
    "        self.W = np.random.randn(self.out_dim, self.in_dim)*0.1\n",
    "        self.b = np.random.randn(self.out_dim, 1)*0.1\n",
    "#         self.b = np.zeros((self.out_dim, 1))\n",
    "        self.step = step_size\n",
    "        \n",
    "    def forward_prop(self, X):\n",
    "        '''\n",
    "        input:X\n",
    "        output: z\n",
    "        '''\n",
    "        self.m = X.shape[1] # number of samples \n",
    "        return np.dot(self.W, X) + self.b\n",
    "    \n",
    "    def backward_prop(self, dz, X):   \n",
    "        '''\n",
    "        calculate the derivative of W and b\n",
    "        dz - derivative of output\n",
    "        X - input\n",
    "        '''\n",
    "        # dz: gradient of output\n",
    "        # X : input\n",
    "        self.dW = np.dot(dz, X.T) / self.m \n",
    "        self.db = np.sum(dz) / self.m \n",
    "        # gradient of the input (last layer activation)\n",
    "        da = np.dot(self.W.T, dz)\n",
    "        return da\n",
    "        \n",
    "    def update(self):\n",
    "        '''\n",
    "        update weights and bias according to stored gradient\n",
    "        '''\n",
    "        self.W -= self.step * self.dW\n",
    "        self.b -= self.step * self.db\n",
    "\n",
    "class logistic_regression_head(object):\n",
    "    '''\n",
    "        z = WX + b\n",
    "        A = sigmoid(z)\n",
    "        output layer of this binary classification problem.\n",
    "        take the last hidden layer as input and output a single prediction value.\n",
    "    '''\n",
    "    def __init__(self, in_dim, step_size):\n",
    "        '''\n",
    "        in_dim - input dimension\n",
    "        out_dim is 1\n",
    "        step_size - update step size for gradient discent\n",
    "        '''\n",
    "        ## random initiate parameters, sample from normal disrtibution\n",
    "        self.step = step_size\n",
    "        self.w = np.random.randn(1, in_dim) \n",
    "        self.b = np.random.randn() \n",
    "        \n",
    "    def forward_prop(self, X):\n",
    "        '''\n",
    "        input: X\n",
    "        output: A\n",
    "        '''\n",
    "        self.m = X.shape[1] # number of samples \n",
    "        self.z = np.dot(self.w, X) + self.b\n",
    "        self.A = sigmoid(self.z)  # shape(1, m)\n",
    "        return self.A\n",
    "        \n",
    "    def backward_prop(self, dz, X):\n",
    "        '''\n",
    "        calculate the derivative of W and b, output the derivative of input X\n",
    "        input:\n",
    "        dz - derivative of output\n",
    "        X - input\n",
    "        output:\n",
    "        dx - derivative of input\n",
    "        '''\n",
    "        ## gradient of weights\n",
    "        self.dw = np.dot(dz, X.T) / self.m\n",
    "        self.db = np.sum(dz) / self.m \n",
    "        ## gradient of input\n",
    "        dx = np.dot(self.w.T, dz)\n",
    "        return dx\n",
    "        \n",
    "    def update(self):\n",
    "        '''\n",
    "        update weights and bias according to stored gradient\n",
    "        '''\n",
    "        self.w -= self.step * self.dw\n",
    "        self.b -= self.step * self.db\n",
    "        \n",
    "\n",
    "## define functions\n",
    "def sigmoid(z):\n",
    "    return 1/(1+ np.exp(-z))\n",
    "\n",
    "def cross_entropy_cost(A, y):\n",
    "    '''\n",
    "    A: prediction; \n",
    "    y: true value\n",
    "    '''      \n",
    "    m = len(y) # number of samples\n",
    "    return -(np.dot(np.log(A), y.T) + np.dot(np.log(1 - A), (1 - y.T)))/m\n",
    "\n",
    "def relu(z):\n",
    "    return np.maximum(z, 0)\n",
    "\n",
    "def grad_relu(z):\n",
    "    '''\n",
    "    gradient of relu given input z \n",
    "    a = relu(z)\n",
    "    z: input\n",
    "    '''\n",
    "#     dz = np.array(da, copy = True)\n",
    "    dz = np.ones_like(z)\n",
    "    dz[z <= 0] = 0\n",
    "    return dz\n",
    "   \n",
    "def grad_tanh(a):\n",
    "    '''\n",
    "    gradient of tanh given (input z or) gradient of output a\n",
    "    a = tanh(z)\n",
    "    '''\n",
    "    dz = 1 - np.square(a)\n",
    "    return dz"
   ]
  },
  {
   "cell_type": "code",
   "execution_count": 26,
   "metadata": {},
   "outputs": [],
   "source": [
    "# define model\n",
    "class deep_feedforward_network(object):\n",
    "    def __init__(self, X_train, y_train, hidden_features, number_layers, activation = 'reLu', step_size = 0.1, max_iter = 1000,tol = 1e-2, random_seed = 0, verbal = True):\n",
    "        '''\n",
    "        Use ReLU in the hidden layers and sigmoid in the output layer.\n",
    "        number_layers: number of hidden layers, at least 1\n",
    "        '''  \n",
    "        self.verbal = verbal\n",
    "        self.seed = random_seed\n",
    "        np.random.seed(self.seed)\n",
    "        self.step = step_size\n",
    "        self.tol = tol\n",
    "        self.activation = activation\n",
    "        self.max_iter = max_iter\n",
    "        self.X = X_train\n",
    "        self.y = y_train\n",
    "        self.n0 = X_train.shape[0] # input feature size\n",
    "        self.m = X_train.shape[1] # number of samples\n",
    "        self.n1 = hidden_features # hidden feature size\n",
    "        self.number_layers = number_layers\n",
    "        \n",
    "        # LAYERS\n",
    "        self.layers = []\n",
    "        # first hidden layer\n",
    "        self.layers.append(linear_layer(self.n0, self.n1, self.step)) \n",
    "        # middle layers\n",
    "        for i in range(self.number_layers - 1):\n",
    "            self.layers.append(linear_layer(self.n1, self.n1, self.step))\n",
    "        # output layer\n",
    "        self.output_layer = logistic_regression_head(self.n1, self.step)    \n",
    "        \n",
    "        \n",
    "    ### training functions #####\n",
    "    def forward_prop(self, X, eval = False):\n",
    "        '''Given training data A, forward propogate though all layers and output prediction value\n",
    "        X - input\n",
    "        eval - in evaluation mode or not. training mode would need more storage space for back prop.\n",
    "        '''\n",
    "        if not eval:\n",
    "            # in training mode, store intermediate variables for back prop\n",
    "            self.zi = []\n",
    "            self.ai = []\n",
    "            a = X\n",
    "            self.ai.append(a)\n",
    "            for i in range(self.number_layers):\n",
    "                layer = self.layers[i]\n",
    "                z = layer.forward_prop(a)\n",
    "                if self.activation == 'tanh':\n",
    "                    a = np.tanh(z)\n",
    "                else:\n",
    "                    a = relu(z)\n",
    "                self.zi.append(z)\n",
    "                self.ai.append(a)\n",
    "            self.aL = self.output_layer.forward_prop(a)\n",
    "            return self.aL\n",
    "        else:\n",
    "            # in evaluatation mode, do not store variables \n",
    "            a = X\n",
    "            for i in range(self.number_layers):\n",
    "                layer = self.layers[i]\n",
    "                z = layer.forward_prop(a)\n",
    "                if self.activation == 'tanh':\n",
    "                    a = np.tanh(z)\n",
    "                else:\n",
    "                    a = relu(z)\n",
    "            self.aL = self.output_layer.forward_prop(a)\n",
    "            return self.aL\n",
    "    \n",
    "    def backward_prop(self):\n",
    "        '''\n",
    "        backward propogation, store gradients in the process\n",
    "        '''\n",
    "        dzL = self.aL - self.y\n",
    "        da = self.output_layer.backward_prop(dzL, self.ai[-1])\n",
    "        for i in range(self.number_layers):\n",
    "            z = self.zi[-1-i]\n",
    "            a = self.ai[-2-i]\n",
    "            if self.activation == 'tanh':\n",
    "                dz = np.multiply(da, grad_tanh(a))\n",
    "            else:  # self.activation == 'reLu':\n",
    "                dz = np.multiply(da, grad_relu(z))\n",
    "            layer = self.layers[-1-i]\n",
    "            da = layer.backward_prop(dz, a)\n",
    "    \n",
    "    def update(self):\n",
    "        '''\n",
    "        update weights based on stored gradients.\n",
    "        '''\n",
    "        self.output_layer.update()\n",
    "        for i in range(self.number_layers):\n",
    "            layer = self.layers[-1-i]\n",
    "            layer.update()\n",
    "                       \n",
    "    def fit(self):\n",
    "        '''\n",
    "        wrap forward prop, back prop and update, fit the data. record the cost vs. iteration\n",
    "        '''\n",
    "        self.costs = np.zeros(self.max_iter) # record costs\n",
    "        self.costs[:] = np.nan\n",
    "        for i in range(self.max_iter):\n",
    "            A = self.forward_prop(self.X)\n",
    "            self.costs[i] = cross_entropy_cost(A, self.y)\n",
    "            self.backward_prop()\n",
    "            self.update()\n",
    "            \n",
    "            if i % 100 == 0 and self.verbal:\n",
    "                print(\"Cost after iteration %i : %f\" %(i, self.costs[i]))\n",
    "                \n",
    "            if self.costs[i] < self.tol:\n",
    "                print(\"Cost less than %e after iteration %i : %f\" %(self.tol, i, self.costs[i]))\n",
    "                break\n",
    "                \n",
    "    def plot_curve(self):\n",
    "        '''\n",
    "        plot cost v.s. iteration curve\n",
    "        '''\n",
    "        plt.plot(self.costs)\n",
    "        plt.ylabel('Cost')\n",
    "        plt.xlabel('Iterations')\n",
    "        plt.title('learning rate: ' + str(self.step))\n",
    "        plt.show()\n",
    "        \n",
    "    ### testing function ###\n",
    "    def predict(self, X_test):\n",
    "        '''\n",
    "        predict the lable of datapoint X_test\n",
    "        X_test - test data\n",
    "        output:\n",
    "        label, 0 or 1\n",
    "        '''\n",
    "        # if sigmoid value >= 0.5, possitive\n",
    "        A = self.forward_prop(X_test, eval = False)\n",
    "        return A >= 0.5\n",
    "    \n",
    "    def evaluate(self, test_X, test_y):\n",
    "        '''\n",
    "        evaluate the performance of the model given a test set\n",
    "        test_X - test set features\n",
    "        test_y - test set labels\n",
    "        output: print accuracy and F1 socre of model prediction, \n",
    "                alse print training accuracy and F1 socre as comparison.\n",
    "        '''\n",
    "        # training score\n",
    "        train_y_pred = self.predict(self.X).flatten()\n",
    "        train_acc = accuracy_score(self.y, train_y_pred)\n",
    "        train_f1 = f1_score(self.y, train_y_pred)\n",
    "        print(\"Training accuracy: %.3f   F1 score: %.3f\" %(train_acc, train_f1))\n",
    "        # testing score\n",
    "        test_y_pred = self.predict(test_X).flatten()\n",
    "        test_acc = accuracy_score(test_y_pred, test_y)\n",
    "        test_f1 = f1_score(test_y_pred, test_y)\n",
    "        print(\"Testing accuracy: %.3f    F1 score: %.3f\" %(test_acc, test_f1))    "
   ]
  },
  {
   "cell_type": "code",
   "execution_count": 27,
   "metadata": {},
   "outputs": [
    {
     "name": "stdout",
     "output_type": "stream",
     "text": [
      "Cost after iteration 0 : 0.408497\n",
      "Cost after iteration 100 : 0.203022\n",
      "Cost after iteration 200 : 0.097616\n",
      "Cost after iteration 300 : 0.072877\n",
      "Cost after iteration 400 : 0.064937\n"
     ]
    }
   ],
   "source": [
    "step = 0.1\n",
    "NN = deep_feedforward_network(train_Xs, train_ys,hidden_features = 5, number_layers=2, step_size = step, max_iter = 500, verbal = True)\n",
    "NN.fit()"
   ]
  },
  {
   "cell_type": "code",
   "execution_count": 28,
   "metadata": {},
   "outputs": [
    {
     "data": {
      "image/png": "[encoded data removed]",
      "text/plain": [
       "<Figure size 432x288 with 1 Axes>"
      ]
     },
     "metadata": {
      "needs_background": "light"
     },
     "output_type": "display_data"
    }
   ],
   "source": [
    "NN.plot_curve()"
   ]
  },
  {
   "cell_type": "markdown",
   "metadata": {},
   "source": [
    "## Evaluation\n",
    "\n",
    "    • Compute the training and the test error.\n",
    "    • Try test examples."
   ]
  },
  {
   "cell_type": "code",
   "execution_count": 29,
   "metadata": {},
   "outputs": [
    {
     "name": "stdout",
     "output_type": "stream",
     "text": [
      "Training accuracy: 0.980   F1 score: 0.894\n",
      "Testing accuracy: 0.979    F1 score: 0.888\n"
     ]
    }
   ],
   "source": [
    "NN.evaluate(test_X, test_y)"
   ]
  },
  {
   "cell_type": "markdown",
   "metadata": {},
   "source": [
    "The result shows that using 30% training sample, two hidden layer can result in pretty good performance. Also, using smaller initial value results in better performance."
   ]
  },
  {
   "cell_type": "markdown",
   "metadata": {},
   "source": [
    "## Infulence of size of traing data"
   ]
  },
  {
   "cell_type": "code",
   "execution_count": 15,
   "metadata": {},
   "outputs": [
    {
     "name": "stdout",
     "output_type": "stream",
     "text": [
      "Using 0.30 of training data, 18000 samples in toal, training took 104.42 seconds\n",
      "Training accuracy: 0.985   F1 score: 0.921\n",
      "Testing accuracy: 0.982    F1 score: 0.904\n",
      "---------------\n",
      "Using 0.60 of training data, 36000 samples in toal, training took 213.93 seconds\n",
      "Training accuracy: 0.984   F1 score: 0.914\n",
      "Testing accuracy: 0.981    F1 score: 0.904\n",
      "---------------\n",
      "Using 1.00 of training data, 60000 samples in toal, training took 357.85 seconds\n",
      "Training accuracy: 0.983   F1 score: 0.912\n",
      "Testing accuracy: 0.983    F1 score: 0.910\n",
      "---------------\n"
     ]
    }
   ],
   "source": [
    "import time\n",
    "for portion in [0.3, 0.6, 1]:\n",
    "    # use just portion of data\n",
    "    num_s = int(train_X.shape[1] * portion)\n",
    "    train_Xs = train_X[:,:num_s]\n",
    "    train_ys = train_y[:num_s]\n",
    "    NN = deep_feedforward_network(train_Xs, train_ys,hidden_features = 5, number_layers=2, step_size = step, max_iter = 1000, verbal = False)\n",
    "    # time the training process\n",
    "    tic = time.clock()\n",
    "    NN.fit()\n",
    "    fitT = time.clock() - tic\n",
    "    print(\"Using %.2f of training data, %d samples in toal, training took %.2f seconds\" %(portion, num_s, fitT))\n",
    "    # evaluate\n",
    "    NN.evaluate(test_X, test_y)\n",
    "    print('---------------')"
   ]
  },
  {
   "cell_type": "markdown",
   "metadata": {},
   "source": [
    "We can see that a small portion of the total training data (30%) can already achieve good results with significantly less time. Meanwhile, using less data samples, the training F1 score is higher, but the testing F1 score is lower. This shows that overfitting might be happening with less data samples, leading to less generalization abilities."
   ]
  },
  {
   "cell_type": "markdown",
   "metadata": {},
   "source": [
    "## Influence of learning rate"
   ]
  },
  {
   "cell_type": "code",
   "execution_count": 16,
   "metadata": {},
   "outputs": [
    {
     "name": "stdout",
     "output_type": "stream",
     "text": [
      "step size: 0.50\n",
      "Training accuracy: 0.985   F1 score: 0.923\n",
      "Testing accuracy: 0.982    F1 score: 0.909\n",
      "---------------\n",
      "step size: 0.05\n",
      "Training accuracy: 0.978   F1 score: 0.883\n",
      "Testing accuracy: 0.976    F1 score: 0.870\n",
      "---------------\n",
      "step size: 0.01\n",
      "Training accuracy: 0.902   F1 score: 0.000\n",
      "Testing accuracy: 0.902    F1 score: 0.000\n",
      "---------------\n"
     ]
    },
    {
     "name": "stderr",
     "output_type": "stream",
     "text": [
      "C:\\ProgramData\\Anaconda3\\lib\\site-packages\\sklearn\\metrics\\classification.py:1135: UndefinedMetricWarning: F-score is ill-defined and being set to 0.0 due to no predicted samples.\n",
      "  'precision', 'predicted', average, warn_for)\n",
      "C:\\ProgramData\\Anaconda3\\lib\\site-packages\\sklearn\\metrics\\classification.py:1137: UndefinedMetricWarning: F-score is ill-defined and being set to 0.0 due to no true samples.\n",
      "  'recall', 'true', average, warn_for)\n"
     ]
    }
   ],
   "source": [
    "# use 50% of training data\n",
    "num_s = int(train_X.shape[1] * 0.5)\n",
    "train_Xs = train_X[:,:num_s]\n",
    "train_ys = train_y[:num_s]\n",
    "Tcosts = []\n",
    "for step in [0.5, 0.05, 0.01]:\n",
    "    NN = deep_feedforward_network(train_Xs, train_ys,hidden_features = 5, number_layers=2, step_size = step, max_iter = 500, verbal = False)\n",
    "    print(\"step size: %.2f\" %(step))\n",
    "    NN.fit()\n",
    "    NN.evaluate(test_X, test_y)\n",
    "    # record the cost curve\n",
    "    Tcosts.append(NN.costs)\n",
    "    print('---------------')"
   ]
  },
  {
   "cell_type": "code",
   "execution_count": 17,
   "metadata": {},
   "outputs": [
    {
     "data": {
      "image/png": "[encoded data removed]",
      "text/plain": [
       "<Figure size 432x288 with 1 Axes>"
      ]
     },
     "metadata": {},
     "output_type": "display_data"
    }
   ],
   "source": [
    "for cost in Tcosts:\n",
    "    plt.plot(cost)\n",
    "plt.xlabel('# Iteration')\n",
    "plt.ylabel('Cost')\n",
    "plt.legend((\"1\", \"0.1\", \"0.01\"))\n",
    "plt.title(\"Learning curve for different learning rate\" )\n",
    "plt.show()"
   ]
  },
  {
   "cell_type": "markdown",
   "metadata": {},
   "source": [
    "We can see from the result that choosing learning rate is crucial to get good results. in this case using step size too small it could not converge to optimal solution in time. And using step size too large the learning curve has several spikes, suffering from overshoot during training."
   ]
  },
  {
   "cell_type": "markdown",
   "metadata": {},
   "source": [
    "## Number of hidden units"
   ]
  },
  {
   "cell_type": "code",
   "execution_count": 18,
   "metadata": {},
   "outputs": [
    {
     "name": "stdout",
     "output_type": "stream",
     "text": [
      "Using 5 hidden units, training took 108.40 seconds\n",
      "Training accuracy: 0.982   F1 score: 0.904\n",
      "Testing accuracy: 0.980    F1 score: 0.898\n",
      "---------------\n",
      "Using 10 hidden units, training took 126.38 seconds\n",
      "Training accuracy: 0.983   F1 score: 0.911\n",
      "Testing accuracy: 0.981    F1 score: 0.904\n",
      "---------------\n",
      "Using 20 hidden units, training took 132.33 seconds\n",
      "Training accuracy: 0.903   F1 score: 0.000\n",
      "Testing accuracy: 0.902    F1 score: 0.000\n",
      "---------------\n"
     ]
    },
    {
     "name": "stderr",
     "output_type": "stream",
     "text": [
      "C:\\ProgramData\\Anaconda3\\lib\\site-packages\\sklearn\\metrics\\classification.py:1135: UndefinedMetricWarning: F-score is ill-defined and being set to 0.0 due to no predicted samples.\n",
      "  'precision', 'predicted', average, warn_for)\n",
      "C:\\ProgramData\\Anaconda3\\lib\\site-packages\\sklearn\\metrics\\classification.py:1137: UndefinedMetricWarning: F-score is ill-defined and being set to 0.0 due to no true samples.\n",
      "  'recall', 'true', average, warn_for)\n"
     ]
    }
   ],
   "source": [
    "for hidden_dim in [5, 10, 20]:\n",
    "    # use just portion of data\n",
    "    num_s = int(train_X.shape[1] * 0.6)\n",
    "    train_Xs = train_X[:,:num_s]\n",
    "    train_ys = train_y[:num_s]\n",
    "    NN = deep_feedforward_network(train_Xs, train_ys, hidden_features = hidden_dim, number_layers=2, step_size = 0.1, max_iter = 500, verbal = False)\n",
    "    # time the training process\n",
    "    tic = time.clock()\n",
    "    NN.fit()\n",
    "    fitT = time.clock() - tic\n",
    "    print(\"Using %d hidden units, training took %.2f seconds\" %(hidden_dim, fitT))\n",
    "    # evaluate\n",
    "    NN.evaluate(test_X, test_y)\n",
    "    print('---------------')"
   ]
  },
  {
   "cell_type": "markdown",
   "metadata": {},
   "source": [
    "We can see that increasing units will first improve the performance, but when hidden dimension is too large it becomes to hard to train, and the network predicts everything as negative.\n",
    "\n",
    "In terms of time, using more features will result in longer time, but the increase is sublinear with respect to number of hidden units. This shows the efficiency of vectorized implementations."
   ]
  },
  {
   "cell_type": "markdown",
   "metadata": {},
   "source": [
    "## Number of hidden layers"
   ]
  },
  {
   "cell_type": "code",
   "execution_count": 33,
   "metadata": {},
   "outputs": [
    {
     "name": "stdout",
     "output_type": "stream",
     "text": [
      "Using 2 hidden layers, training took 108.24 seconds\n",
      "Training accuracy: 0.991   F1 score: 0.951\n",
      "Testing accuracy: 0.985    F1 score: 0.921\n",
      "---------------\n",
      "Using 3 hidden layers, training took 110.99 seconds\n",
      "Training accuracy: 0.982   F1 score: 0.903\n",
      "Testing accuracy: 0.976    F1 score: 0.866\n",
      "---------------\n",
      "Using 4 hidden layers, training took 114.07 seconds\n",
      "Training accuracy: 0.903   F1 score: 0.000\n",
      "Testing accuracy: 0.902    F1 score: 0.000\n",
      "---------------\n"
     ]
    },
    {
     "name": "stderr",
     "output_type": "stream",
     "text": [
      "C:\\ProgramData\\Anaconda3\\lib\\site-packages\\sklearn\\metrics\\classification.py:1135: UndefinedMetricWarning: F-score is ill-defined and being set to 0.0 due to no predicted samples.\n",
      "  'precision', 'predicted', average, warn_for)\n",
      "C:\\ProgramData\\Anaconda3\\lib\\site-packages\\sklearn\\metrics\\classification.py:1137: UndefinedMetricWarning: F-score is ill-defined and being set to 0.0 due to no true samples.\n",
      "  'recall', 'true', average, warn_for)\n"
     ]
    }
   ],
   "source": [
    "for n_hidden_layer in [2, 3, 4]:\n",
    "    # use just portion of data\n",
    "    num_s = int(train_X.shape[1] * 0.3)\n",
    "    train_Xs = train_X[:,:num_s]\n",
    "    train_ys = train_y[:num_s]\n",
    "    NN = deep_feedforward_network(train_Xs, train_ys, hidden_features = 5, number_layers= n_hidden_layer, step_size = 0.5, max_iter = 1000, verbal = False)\n",
    "    # time the training process\n",
    "    tic = time.clock()\n",
    "    NN.fit()\n",
    "    fitT = time.clock() - tic\n",
    "    print(\"Using %d hidden layers, training took %.2f seconds\" %(n_hidden_layer, fitT))\n",
    "    # evaluate\n",
    "    NN.evaluate(test_X, test_y)\n",
    "    print('---------------')"
   ]
  },
  {
   "cell_type": "markdown",
   "metadata": {},
   "source": [
    "We can see that using more hidden layers actually decreases the performance, making it harder to train. The largest depth this fully connected network can reach is 3 hidden layers."
   ]
  },
  {
   "cell_type": "markdown",
   "metadata": {},
   "source": [
    "## Type of activation function"
   ]
  },
  {
   "cell_type": "code",
   "execution_count": 37,
   "metadata": {},
   "outputs": [
    {
     "name": "stdout",
     "output_type": "stream",
     "text": [
      "Activation function:  relu\n",
      "Training accuracy: 0.991   F1 score: 0.951\n",
      "Testing accuracy: 0.985    F1 score: 0.921\n",
      "---------------\n",
      "Activation function:  tanh\n",
      "Training accuracy: 0.959   F1 score: 0.742\n",
      "Testing accuracy: 0.958    F1 score: 0.733\n",
      "---------------\n"
     ]
    }
   ],
   "source": [
    "for activ in ['relu', 'tanh']:\n",
    "    NN = deep_feedforward_network(train_Xs, train_ys,hidden_features = 5,number_layers = 2, activation= activ, step_size = 0.5, max_iter = 1000, verbal = False)\n",
    "    # time the training process\n",
    "    NN.fit()\n",
    "    print(\"Activation function: \", activ )\n",
    "    # evaluate\n",
    "    NN.evaluate(test_X, test_y)\n",
    "    print('---------------')"
   ]
  },
  {
   "cell_type": "markdown",
   "metadata": {},
   "source": [
    "We can see that using relu will result in better performance"
   ]
  },
  {
   "cell_type": "markdown",
   "metadata": {},
   "source": [
    "## Example of miss-classified image"
   ]
  },
  {
   "cell_type": "code",
   "execution_count": 20,
   "metadata": {},
   "outputs": [],
   "source": [
    "NN = deep_feedforward_network(train_Xs, train_ys,hidden_features = 10, number_layers=2, step_size = 0.1, max_iter = 500, verbal = False)\n",
    "NN.fit()"
   ]
  },
  {
   "cell_type": "code",
   "execution_count": 21,
   "metadata": {},
   "outputs": [],
   "source": [
    "miss_classified = test_X[:, NN.predict(test_X).flatten() != test_y]"
   ]
  },
  {
   "cell_type": "code",
   "execution_count": 22,
   "metadata": {},
   "outputs": [
    {
     "data": {
      "text/plain": [
       "(784, 982)"
      ]
     },
     "execution_count": 22,
     "metadata": {},
     "output_type": "execute_result"
    }
   ],
   "source": [
    "miss_classified.shape"
   ]
  },
  {
   "cell_type": "code",
   "execution_count": 26,
   "metadata": {},
   "outputs": [
    {
     "data": {
      "image/png": "[encoded data removed]",
      "text/plain": [
       "<Figure size 432x288 with 1 Axes>"
      ]
     },
     "metadata": {
      "needs_background": "light"
     },
     "output_type": "display_data"
    }
   ],
   "source": [
    "sample = miss_classified[:, 33] * 255\n",
    "sample = np.reshape(sample, [28,28])\n",
    "pyplot.imshow(sample, cmap='gray')  # plot the image in \"gray\" colormap\n",
    "pyplot.title(\"Digit missclassifed as not 4\")\n",
    "pyplot.show()"
   ]
  },
  {
   "cell_type": "code",
   "execution_count": null,
   "metadata": {},
   "outputs": [],
   "source": []
  }
 ],
 "metadata": {
  "kernelspec": {
   "display_name": "Python 3",
   "language": "python",
   "name": "python3"
  },
  "language_info": {
   "codemirror_mode": {
    "name": "ipython",
    "version": 3
   },
   "file_extension": ".py",
   "mimetype": "text/x-python",
   "name": "python",
   "nbconvert_exporter": "python",
   "pygments_lexer": "ipython3",
   "version": "3.6.8"
  }
 },
 "nbformat": 4,
 "nbformat_minor": 2
}
